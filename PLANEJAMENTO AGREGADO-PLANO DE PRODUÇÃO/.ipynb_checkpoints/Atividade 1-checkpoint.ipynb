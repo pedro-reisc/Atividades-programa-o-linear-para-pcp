{
 "cells": [
  {
   "cell_type": "code",
   "execution_count": 36,
   "metadata": {},
   "outputs": [],
   "source": [
    "from pulp import LpProblem, LpMinimize, LpVariable, value\n",
    "\n",
    "# O enunciado da atividade está disponível na mesma pasta deste arquivo em formato PNG\n",
    "# Criação do problema de minimização\n",
    "prob = LpProblem(name=\"Minimize_Cost\", sense=LpMinimize)"
   ]
  },
  {
   "cell_type": "code",
   "execution_count": 37,
   "metadata": {},
   "outputs": [],
   "source": [
    "# criação das variaveis de decisão\n",
    "# legenda: P[produto, processo, periodo] ; E[produto,periodo]\n",
    "# legenda: P = Quantidade produzida processo regular; E = Quantidade em estoque\n",
    "\n",
    "E = {(i, j): LpVariable(name=f\"E{i}{j}\", lowBound=0) for i in range(1, 3) for j in range(0, 4)}\n",
    "P = {(x, y, k): LpVariable(name=f\"P{x}{y}{k}\", lowBound=0) for x in range(1, 3) for y in range(1, 3) for k in range(0, 4)}\n"
   ]
  },
  {
   "cell_type": "code",
   "execution_count": 38,
   "metadata": {},
   "outputs": [],
   "source": [
    "# Criação da função objetivo\n",
    "\n",
    "cost = (\n",
    "    5 * E[1, 1] + 6 * E[1, 2] + 5 * E[1, 3] +\n",
    "    6 * E[2, 1] + 7 * E[2, 2] + 7 * E[2, 3] +\n",
    "    72 * P[1, 1, 1] + 74 * P[1, 1, 2] + 75 * P[1, 1, 3] +\n",
    "    85 * P[2, 1, 1] + 88 * P[2, 1, 2] + 84 * P[2, 1, 3] +\n",
    "    80 * P[1, 2, 1] + 78 * P[1, 2, 2] + 78 * P[1, 2, 3] +\n",
    "    90 * P[2, 2, 1] + 95 * P[2, 2, 2] + 92 * P[2, 2, 3]\n",
    ")\n",
    "prob += cost, \"Objective\""
   ]
  },
  {
   "cell_type": "code",
   "execution_count": 39,
   "metadata": {},
   "outputs": [],
   "source": [
    "# Criando as restrições \n",
    "\n",
    "# Restrições de balanceamento de material do produto 1 (bicicleta street)\n",
    "prob += E[1,0] == 100, \"Restrição 1\"\n",
    "prob += E[1,1] - E[1,0] - P[1,1,1] - P[1,2,1] == -1000, \"Restrição 2\"\n",
    "prob += E[1,2] - E[1,1] - P[1,1,2] - P[1,2,2] == -1050, \"Restrição 3\"\n",
    "prob += E[1,3] - E[1,2] - P[1,1,3] - P[1,2,3] == -1100, \"Restrição 4\"\n",
    "\n",
    "# Restrições de balanceamento de material do produto 2 (bicicleta road)\n",
    "prob += E[2,0] == 50, \"Restrição 5\"\n",
    "prob += E[2,1] - E[2,0] - P[2,1,1] - P[2,2,1] == -500, \"Restrição 6\"\n",
    "prob += E[2,2] - E[2,1] - P[2,1,2] - P[2,2,2] == -600, \"Restrição 7\"\n",
    "prob += E[2,3] - E[2,2] - P[2,1,3] - P[2,2,3] == -550, \"Restrição 8\"\n",
    "\n",
    "# Restrições para o limite de capacidade do recurso máquinas\n",
    "prob += 5*P[1,1,1] + 8*P[2,1,1] + 4*P[1,2,1] + 6*P[2,2,1] <=8600, \"Restrição 9\"\n",
    "prob += 5*P[1,1,2] + 8*P[2,1,2] + 4*P[1,2,2] + 6*P[2,2,2] <=8500, \"Restrição 10\"\n",
    "prob += 5*P[1,1,3] + 8*P[2,1,3] + 4*P[1,2,3] + 6*P[2,2,3] <=8800, \"Restrição 11\"\n",
    "\n",
    "# Restrições para o limite de capacidade do recurso homens\n",
    "prob += 10*P[1,1,1] + 12*P[2,1,1] + 8*P[1,2,1] + 9*P[2,2,1] <=17000, \"Restrição 12\"\n",
    "prob += 10*P[1,1,2] + 12*P[2,1,2] + 8*P[1,2,2] + 9*P[2,2,2] <=16600, \"Restrição 13\"\n",
    "prob += 10*P[1,1,3] + 12*P[2,1,3] + 8*P[1,2,3] + 9*P[2,2,3] <=17200, \"Restrição 14\"\n",
    "\n"
   ]
  },
  {
   "cell_type": "code",
   "execution_count": 46,
   "metadata": {},
   "outputs": [
    {
     "name": "stdout",
     "output_type": "stream",
     "text": [
      "Status: 1\n",
      "Valor ótimo da função objetivo = 368756.25\n",
      "Valor da variável E[1,0] = 100.0, Custo Reduzido = 0.0\n",
      "Valor da variável E[1,1] = 0.0, Custo Reduzido = 1.125\n",
      "Valor da variável E[1,2] = 0.0, Custo Reduzido = 4.375\n",
      "Valor da variável E[1,3] = 0.0, Custo Reduzido = 95.0\n",
      "Valor da variável E[2,0] = 50.0, Custo Reduzido = 0.0\n",
      "Valor da variável E[2,1] = 193.75, Custo Reduzido = 0.0\n",
      "Valor da variável E[2,2] = 0.0, Custo Reduzido = 10.0\n",
      "Valor da variável E[2,3] = 0.0, Custo Reduzido = 115.0\n",
      "Valor da variável P[1,1,1] = 900.0, Custo Reduzido = 3.5527137e-15\n",
      "Valor da variável P[1,1,2] = 1050.0, Custo Reduzido = 3.5527137e-15\n",
      "Valor da variável P[1,1,3] = -1.8189894e-13, Custo Reduzido = 0.0\n",
      "Valor da variável P[1,2,1] = 0.0, Custo Reduzido = 5.5\n",
      "Valor da variável P[1,2,2] = 0.0, Custo Reduzido = 1.125\n",
      "Valor da variável P[1,2,3] = 1100.0, Custo Reduzido = 0.0\n",
      "Valor da variável P[2,1,1] = 118.75, Custo Reduzido = 0.0\n",
      "Valor da variável P[2,1,2] = 406.25, Custo Reduzido = 0.0\n",
      "Valor da variável P[2,1,3] = 550.0, Custo Reduzido = 0.0\n",
      "Valor da variável P[2,2,1] = 525.0, Custo Reduzido = -7.1054274e-15\n",
      "Valor da variável P[2,2,2] = 0.0, Custo Reduzido = 1.25\n",
      "Valor da variável P[2,2,3] = 0.0, Custo Reduzido = 2.0\n",
      "Folga da Restrição Restrição_1 = -0.0\n",
      "Dual Price da Restrição Restrição_1 = -84.5\n",
      "Folga da Restrição Restrição_2 = -0.0\n",
      "Dual Price da Restrição Restrição_2 = -84.5\n",
      "Folga da Restrição Restrição_3 = -0.0\n",
      "Dual Price da Restrição Restrição_3 = -88.375\n",
      "Folga da Restrição Restrição_4 = -0.0\n",
      "Dual Price da Restrição Restrição_4 = -90.0\n",
      "Folga da Restrição Restrição_5 = -0.0\n",
      "Dual Price da Restrição Restrição_5 = -105.0\n",
      "Folga da Restrição Restrição_6 = -0.0\n",
      "Dual Price da Restrição Restrição_6 = -105.0\n",
      "Folga da Restrição Restrição_7 = -0.0\n",
      "Dual Price da Restrição Restrição_7 = -111.0\n",
      "Folga da Restrição Restrição_8 = -0.0\n",
      "Dual Price da Restrição Restrição_8 = -108.0\n",
      "Folga da Restrição Restrição_9 = -0.0\n",
      "Dual Price da Restrição Restrição_9 = -2.5\n",
      "Folga da Restrição Restrição_10 = -0.0\n",
      "Dual Price da Restrição Restrição_10 = -2.875\n",
      "Folga da Restrição Restrição_11 = -0.0\n",
      "Dual Price da Restrição Restrição_11 = -3.0\n",
      "Folga da Restrição Restrição_12 = 1850.0\n",
      "Dual Price da Restrição Restrição_12 = 0.0\n",
      "Folga da Restrição Restrição_13 = 1225.0\n",
      "Dual Price da Restrição Restrição_13 = 0.0\n",
      "Folga da Restrição Restrição_14 = 1800.0\n",
      "Dual Price da Restrição Restrição_14 = 0.0\n"
     ]
    }
   ],
   "source": [
    "# Resolve o problema\n",
    "prob.solve()\n",
    "\n",
    "# Imprime o resultado\n",
    "\n",
    "print(\"Status:\", prob.status)\n",
    "print(\"Valor ótimo da função objetivo =\", value(prob.objective))\n",
    "\n",
    "#imprime os valores das variáveis e custo reduzido\n",
    "for i in range(1, 3):\n",
    "    for j in range(0, 4):\n",
    "        print(f\"Valor da variável E[{i},{j}] = {value(E[i, j])}, Custo Reduzido = {E[i, j].dj}\")\n",
    "        \n",
    "for x in range(1, 3):\n",
    "    for y in range(1, 3):\n",
    "        for k in range(1, 4):\n",
    "            print(f\"Valor da variável P[{x},{y},{k}] = {value(P[x, y, k])}, Custo Reduzido = {P[x, y, k].dj}\")  \n",
    "            \n",
    "#imprime as folgas e o dual price de cada restrição            \n",
    "for constraint in prob.constraints.values():\n",
    "    print(f\"Folga da Restrição {constraint.name} = {constraint.slack}\")\n",
    "    print(f\"Dual Price da Restrição {constraint.name} = {constraint.pi}\")            "
   ]
  },
  {
   "cell_type": "code",
   "execution_count": null,
   "metadata": {},
   "outputs": [],
   "source": []
  }
 ],
 "metadata": {
  "kernelspec": {
   "display_name": "Python 3",
   "language": "python",
   "name": "python3"
  },
  "language_info": {
   "codemirror_mode": {
    "name": "ipython",
    "version": 3
   },
   "file_extension": ".py",
   "mimetype": "text/x-python",
   "name": "python",
   "nbconvert_exporter": "python",
   "pygments_lexer": "ipython3",
   "version": "3.8.5"
  }
 },
 "nbformat": 4,
 "nbformat_minor": 4
}
